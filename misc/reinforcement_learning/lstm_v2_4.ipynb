{
 "cells": [
  {
   "cell_type": "markdown",
   "metadata": {},
   "source": [
    "* reward function: with coefficient\n",
    "* accuracy estimation: with predictor\n",
    "* next item sampling: with random_choice\n",
    "* input to lstm: tokens expanded\n",
    "* data_x: without 0-steps"
   ]
  },
  {
   "cell_type": "markdown",
   "metadata": {},
   "source": [
    "Tokens expanded\n",
    "* lstm input shape: (6, 5) \n",
    "* 5: no. of layers, 6: layer infos\n",
    "* input to predict: (1, 6, 5)\n",
    "* predicted output shape: (1, 6, 382) return_sequences=True\n",
    "* predicts layer params"
   ]
  },
  {
   "cell_type": "code",
   "execution_count": 1,
   "metadata": {},
   "outputs": [],
   "source": [
    "import numpy as np\n",
    "import keras\n",
    "import random\n",
    "import matplotlib.pyplot as plt \n",
    "from keras.models import Sequential \n",
    "from keras.layers import Dense, LSTM, Dropout\n",
    "from keras.preprocessing.sequence import pad_sequences\n",
    "from keras.utils import to_categorical\n",
    "import keras.backend as K\n",
    "import scipy.stats as stats\n",
    "import math\n",
    "import tensorflow as tf\n",
    "import itertools\n",
    "from typing import List"
   ]
  },
  {
   "cell_type": "code",
   "execution_count": 2,
   "metadata": {},
   "outputs": [],
   "source": [
    "baseline = 0\n",
    "rew_coef = 1\n",
    "loss_alpha = -0.5\n",
    "# rnn_lr = 0.01 \n",
    "# rnn_decay = 0.1\n",
    "no_of_nas_epochs = 40\n",
    "no_of_samples_per_epoch = 10\n",
    "max_no_of_layers = 6\n",
    "rnn_train_epochs = 64\n",
    "distribution_space = np.linspace(1,32,32)\n",
    "rnn_dim = int(distribution_space[-1])\n",
    "no_of_layer_params = 6"
   ]
  },
  {
   "cell_type": "code",
   "execution_count": 3,
   "metadata": {},
   "outputs": [],
   "source": [
    "def plot_distribution(samples, prob, next_):\n",
    "    fig, axs = plt.subplots(len(next_), figsize=(24, 6))\n",
    "    for i in range(len(next_)):\n",
    "        axs[i].axvline(x=next_[i], c=\"r\", alpha=0.5)\n",
    "        axs[i].plot(distribution_space, prob[i])\n",
    "        axs[i].axis('off')    \n",
    "    plt.show()"
   ]
  },
  {
   "cell_type": "code",
   "execution_count": 4,
   "metadata": {},
   "outputs": [],
   "source": [
    "acc_model = keras.models.load_model(\"accuracy_predictor.h5\")\n",
    "def performance_estimate(sequence):\n",
    "    seq_hot = keras.utils.to_categorical(sequence[:-1], num_classes=383)[np.newaxis]\n",
    "    acc = acc_model.predict(seq_hot)[0][0]\n",
    "    return round(acc, 3)"
   ]
  },
  {
   "cell_type": "code",
   "execution_count": 5,
   "metadata": {},
   "outputs": [],
   "source": [
    "def discount_reward(rewards):\n",
    "    discounted_reward = []\n",
    "    for t in range(len(rewards)):\n",
    "        dis_reward = 0\n",
    "        for i, r in enumerate(rewards[t:]):\n",
    "            dis_reward = loss_alpha**(i-t) * r\n",
    "        discounted_reward.append(dis_reward)\n",
    "    discounted_reward = tf.stack(discounted_reward)\n",
    "    if len(rewards) > 1:\n",
    "        discounted_reward = (discounted_reward - K.mean(discounted_reward)) / K.std(discounted_reward)\n",
    "    return discounted_reward"
   ]
  },
  {
   "cell_type": "code",
   "execution_count": 6,
   "metadata": {},
   "outputs": [],
   "source": [
    "def reinforce(y_true, y_pred):\n",
    "    rewards = rew_coef * (data_acc - baseline)\n",
    "    discounted_rewards = discount_reward(rewards)\n",
    "    y_pred = K.clip(y_pred, 1e-36, 1e36)\n",
    "    loss = - K.log(y_pred) * discounted_rewards[:, None]\n",
    "    return loss"
   ]
  },
  {
   "cell_type": "code",
   "execution_count": 7,
   "metadata": {},
   "outputs": [],
   "source": [
    "ranges = {\n",
    "    \"layers\": [1, 2, 3],  # 1:\"Conv2D\", 2:\"DepthwiseConv2D\", 3:\"Dense\", 4:\"dropout\", 5:\"last\"\n",
    "    \"filters\": [8, 16, 24, 32, 40],\n",
    "    \"nodes\": [4, 8, 12, 16, 20, 24, 28, 32, 36, 40],\n",
    "    \"kernel_sizes\": [1, 2, 3],  # 1:[1, 1], 2:[2, 2], 3:[3, 3]\n",
    "    \"strides\": [1, 2, 3],  # 1:[1, 1], 2:[2, 2], 3:[3, 3]\n",
    "    \"paddings\": [1, 2],  # 1:\"valid\", 2:\"same\"\n",
    "    \"activations\": [1, 2],  # 1:\"sigmoid\", 2:\"relu\"\n",
    "        }"
   ]
  },
  {
   "cell_type": "code",
   "execution_count": 8,
   "metadata": {},
   "outputs": [],
   "source": [
    "# def expand_token(sequence):\n",
    "def get_dictionary() -> List:\n",
    "    cnn_params = list(itertools.product(*[ranges[\"layers\"][:-1], ranges[\"filters\"], ranges[\"kernel_sizes\"], ranges[\"strides\"], ranges[\"paddings\"], \n",
    "                                          ranges[\"activations\"]]))\n",
    "    dense_params = list(itertools.product(*[[3], ranges[\"nodes\"], [0], [0], [0], ranges[\"activations\"]]))\n",
    "    last_params = [[4, 2, 0, 0, 0, 0], [5, 2, 0, 0, 0, 0]]  # dropout 0.2, softmax 2\n",
    "    dictionary = cnn_params + dense_params #+ last_params\n",
    "    return dictionary\n",
    "#     expanded = [dictionary[i-1] for i in sequence]\n",
    "#     return expanded"
   ]
  },
  {
   "cell_type": "code",
   "execution_count": 9,
   "metadata": {},
   "outputs": [],
   "source": [
    "def map_dist_to_layer_param(dist: List, param_name: str, selected: int) -> int:\n",
    "    if param_name is None:\n",
    "        return 0\n",
    "    range_ = ranges[param_name]\n",
    "    stp = int(math.ceil(len(dist)/len(range_)))\n",
    "    mapped = [item for sublist in [[i]*stp for i in range_] for item in sublist]\n",
    "\n",
    "    while len(mapped) > len(dist):\n",
    "        s = np.random.randint(len(mapped))\n",
    "        del mapped[s]\n",
    "    value = mapped[selected-1]\n",
    "    return value"
   ]
  },
  {
   "cell_type": "code",
   "execution_count": 10,
   "metadata": {},
   "outputs": [],
   "source": [
    "model = keras.models.Sequential()\n",
    "model.add(Dense(128, input_shape=(no_of_layer_params, max_no_of_layers-1), activation=\"relu\")) \n",
    "model.add(Dense(128, activation=\"relu\"))  \n",
    "model.add(Dense(64, activation=\"relu\")) \n",
    "model.add(Dense(64, activation=\"relu\")) \n",
    "model.add(Dense(32, activation=\"relu\")) \n",
    "model.add(Dense(32, activation=\"relu\")) \n",
    "model.add(Dense(32, activation=\"relu\")) \n",
    "model.add(Dense(32, activation=\"relu\")) \n",
    "model.add(Dense(len(distribution_space), activation=\"softmax\")) \n",
    "\n",
    "# model.compile(loss=\"categorical_crossentropy\", optimizer=Adam(lr=learning_rate))"
   ]
  },
  {
   "cell_type": "code",
   "execution_count": 11,
   "metadata": {},
   "outputs": [],
   "source": [
    "# model = None\n",
    "# main_input = keras.engine.input_layer.Input(shape=(no_of_layer_params, max_no_of_layers-1), batch_shape=None, name=\"main_input\")\n",
    "# x = keras.layers.LSTM(rnn_dim, return_sequences=True)(main_input)\n",
    "# x = keras.layers.LSTM(rnn_dim, return_sequences=True)(x)\n",
    "# x = keras.layers.LSTM(rnn_dim, return_sequences=True)(x)\n",
    "# x = keras.layers.LSTM(rnn_dim, return_sequences=True)(x)\n",
    "# x = keras.layers.LSTM(rnn_dim, return_sequences=True)(x)\n",
    "# # x = keras.layers.LSTM(rnn_dim, return_sequences=True)(x)\n",
    "# # x = keras.layers.LSTM(rnn_dim, return_sequences=True)(x)\n",
    "# # x = keras.layers.LSTM(rnn_dim, return_sequences=True)(x)\n",
    "# main_output = keras.layers.Dense(len(distribution_space), activation=\"softmax\", name=\"main_output\")(x)\n",
    "# model = keras.models.Model(inputs=[main_input], outputs=[main_output])"
   ]
  },
  {
   "cell_type": "code",
   "execution_count": 12,
   "metadata": {},
   "outputs": [],
   "source": [
    "# model = None\n",
    "# main_input = keras.engine.input_layer.Input(shape=(no_of_layer_params, max_no_of_layers-1), batch_shape=None, name=\"main_input\")\n",
    "# x = keras.layers.LSTM(rnn_dim, return_sequences=True)(main_input)\n",
    "# x = keras.layers.LSTM(rnn_dim, return_sequences=True)(x)\n",
    "# main_output = keras.layers.Softmax(name=\"main_output\", axis=-1)(x)\n",
    "# model = keras.models.Model(inputs=[main_input], outputs=[main_output])"
   ]
  },
  {
   "cell_type": "code",
   "execution_count": 13,
   "metadata": {},
   "outputs": [],
   "source": [
    "# model.compile(loss={\"main_output\": reinforce}, optimizer=keras.optimizers.Adam(lr=rnn_lr, decay=rnn_decay, clipnorm=1.0))\n",
    "model.compile(loss=reinforce, optimizer=keras.optimizers.Adam())"
   ]
  },
  {
   "cell_type": "code",
   "execution_count": 14,
   "metadata": {},
   "outputs": [
    {
     "name": "stdout",
     "output_type": "stream",
     "text": [
      "Model: \"sequential\"\n",
      "_________________________________________________________________\n",
      "Layer (type)                 Output Shape              Param #   \n",
      "=================================================================\n",
      "dense (Dense)                (None, 6, 128)            768       \n",
      "_________________________________________________________________\n",
      "dense_1 (Dense)              (None, 6, 128)            16512     \n",
      "_________________________________________________________________\n",
      "dense_2 (Dense)              (None, 6, 64)             8256      \n",
      "_________________________________________________________________\n",
      "dense_3 (Dense)              (None, 6, 64)             4160      \n",
      "_________________________________________________________________\n",
      "dense_4 (Dense)              (None, 6, 32)             2080      \n",
      "_________________________________________________________________\n",
      "dense_5 (Dense)              (None, 6, 32)             1056      \n",
      "_________________________________________________________________\n",
      "dense_6 (Dense)              (None, 6, 32)             1056      \n",
      "_________________________________________________________________\n",
      "dense_7 (Dense)              (None, 6, 32)             1056      \n",
      "_________________________________________________________________\n",
      "dense_8 (Dense)              (None, 6, 32)             1056      \n",
      "=================================================================\n",
      "Total params: 36,000\n",
      "Trainable params: 36,000\n",
      "Non-trainable params: 0\n",
      "_________________________________________________________________\n"
     ]
    }
   ],
   "source": [
    "model.summary()"
   ]
  },
  {
   "cell_type": "code",
   "execution_count": 15,
   "metadata": {},
   "outputs": [],
   "source": [
    "# keras.utils.plot_model(model, \"lstm.png\", show_shapes=True)"
   ]
  },
  {
   "cell_type": "code",
   "execution_count": 16,
   "metadata": {
    "scrolled": false
   },
   "outputs": [
    {
     "name": "stdout",
     "output_type": "stream",
     "text": [
      "NAS epoch 1\n",
      "Epoch average accuracy (10 sequences): 0.704\n"
     ]
    },
    {
     "data": {
      "image/png": "[encoded data removed]",
      "text/plain": [
       "<Figure size 1728x432 with 6 Axes>"
      ]
     },
     "metadata": {
      "needs_background": "light"
     },
     "output_type": "display_data"
    },
    {
     "name": "stdout",
     "output_type": "stream",
     "text": [
      "Training lstm ..\n",
      "Rewards: [0.807, 0.683, 0.786, 0.525, 0.515, 0.799, 0.516, 0.781, 0.814, 0.813]\n",
      "Discounted Rewards: tf.Tensor(\n",
      "[[ 0.44720024]\n",
      " [ 0.44716185]\n",
      " [ 0.4470083 ]\n",
      " [ 0.44639418]\n",
      " [ 0.44393754]\n",
      " [ 0.4341111 ]\n",
      " [ 0.3948052 ]\n",
      " [ 0.2375817 ]\n",
      " [-0.39131227]\n",
      " [-2.9068882 ]], shape=(10, 1), dtype=float32)\n"
     ]
    },
    {
     "ename": "ValueError",
     "evalue": "in user code:\n\n    /home/amirhossein/.local/lib/python3.6/site-packages/tensorflow/python/keras/engine/training.py:805 train_function  *\n        return step_function(self, iterator)\n    /home/amirhossein/.local/lib/python3.6/site-packages/tensorflow/python/keras/engine/training.py:795 step_function  **\n        outputs = model.distribute_strategy.run(run_step, args=(data,))\n    /home/amirhossein/.local/lib/python3.6/site-packages/tensorflow/python/distribute/distribute_lib.py:1259 run\n        return self._extended.call_for_each_replica(fn, args=args, kwargs=kwargs)\n    /home/amirhossein/.local/lib/python3.6/site-packages/tensorflow/python/distribute/distribute_lib.py:2730 call_for_each_replica\n        return self._call_for_each_replica(fn, args, kwargs)\n    /home/amirhossein/.local/lib/python3.6/site-packages/tensorflow/python/distribute/distribute_lib.py:3417 _call_for_each_replica\n        return fn(*args, **kwargs)\n    /home/amirhossein/.local/lib/python3.6/site-packages/tensorflow/python/keras/engine/training.py:788 run_step  **\n        outputs = model.train_step(data)\n    /home/amirhossein/.local/lib/python3.6/site-packages/tensorflow/python/keras/engine/training.py:756 train_step\n        y, y_pred, sample_weight, regularization_losses=self.losses)\n    /home/amirhossein/.local/lib/python3.6/site-packages/tensorflow/python/keras/engine/compile_utils.py:182 __call__\n        y_true = self._conform_to_outputs(y_pred, y_true)\n    /home/amirhossein/.local/lib/python3.6/site-packages/tensorflow/python/keras/engine/compile_utils.py:62 _conform_to_outputs\n        struct = map_to_output_names(outputs, self._output_names, struct)\n    /home/amirhossein/.local/lib/python3.6/site-packages/tensorflow/python/keras/engine/compile_utils.py:587 map_to_output_names\n        struct.keys(), output_names))\n\n    ValueError: Found unexpected keys that do not correspond to any Model output: dict_keys(['main_output']). Expected: ['dense_8']\n",
     "output_type": "error",
     "traceback": [
      "\u001b[0;31m---------------------------------\u001b[0m",
      "\u001b[0;31mValueError\u001b[0mTraceback (most recent call last)",
      "\u001b[0;32m<ipython-input-16-5bacda69feef>\u001b[0m in \u001b[0;36m<module>\u001b[0;34m\u001b[0m\n\u001b[1;32m     62\u001b[0m                         \u001b[0mepochs\u001b[0m\u001b[0;34m=\u001b[0m\u001b[0mrnn_train_epochs\u001b[0m\u001b[0;34m,\u001b[0m\u001b[0;34m\u001b[0m\u001b[0;34m\u001b[0m\u001b[0m\n\u001b[1;32m     63\u001b[0m                         \u001b[0mbatch_size\u001b[0m\u001b[0;34m=\u001b[0m\u001b[0mlen\u001b[0m\u001b[0;34m(\u001b[0m\u001b[0mdata_x\u001b[0m\u001b[0;34m)\u001b[0m\u001b[0;34m,\u001b[0m\u001b[0;34m\u001b[0m\u001b[0;34m\u001b[0m\u001b[0m\n\u001b[0;32m---> 64\u001b[0;31m                         verbose=0)\n\u001b[0m\u001b[1;32m     65\u001b[0m     \u001b[0mlstm_loss_avg\u001b[0m \u001b[0;34m=\u001b[0m \u001b[0mnp\u001b[0m\u001b[0;34m.\u001b[0m\u001b[0maverage\u001b[0m\u001b[0;34m(\u001b[0m\u001b[0mlist\u001b[0m\u001b[0;34m(\u001b[0m\u001b[0mhistory\u001b[0m\u001b[0;34m.\u001b[0m\u001b[0mhistory\u001b[0m\u001b[0;34m.\u001b[0m\u001b[0mvalues\u001b[0m\u001b[0;34m(\u001b[0m\u001b[0;34m)\u001b[0m\u001b[0;34m)\u001b[0m\u001b[0;34m[\u001b[0m\u001b[0;36m0\u001b[0m\u001b[0;34m]\u001b[0m\u001b[0;34m)\u001b[0m\u001b[0;34m\u001b[0m\u001b[0;34m\u001b[0m\u001b[0m\n\u001b[1;32m     66\u001b[0m     \u001b[0mprint\u001b[0m\u001b[0;34m(\u001b[0m\u001b[0;34m\"lstm loss (epochs average):\"\u001b[0m\u001b[0;34m,\u001b[0m \u001b[0mlstm_loss_avg\u001b[0m\u001b[0;34m)\u001b[0m\u001b[0;34m\u001b[0m\u001b[0;34m\u001b[0m\u001b[0m\n",
      "\u001b[0;32m~/.local/lib/python3.6/site-packages/tensorflow/python/keras/engine/training.py\u001b[0m in \u001b[0;36mfit\u001b[0;34m(self, x, y, batch_size, epochs, verbose, callbacks, validation_split, validation_data, shuffle, class_weight, sample_weight, initial_epoch, steps_per_epoch, validation_steps, validation_batch_size, validation_freq, max_queue_size, workers, use_multiprocessing)\u001b[0m\n\u001b[1;32m   1098\u001b[0m                 _r=1):\n\u001b[1;32m   1099\u001b[0m               \u001b[0mcallbacks\u001b[0m\u001b[0;34m.\u001b[0m\u001b[0mon_train_batch_begin\u001b[0m\u001b[0;34m(\u001b[0m\u001b[0mstep\u001b[0m\u001b[0;34m)\u001b[0m\u001b[0;34m\u001b[0m\u001b[0;34m\u001b[0m\u001b[0m\n\u001b[0;32m-> 1100\u001b[0;31m               \u001b[0mtmp_logs\u001b[0m \u001b[0;34m=\u001b[0m \u001b[0mself\u001b[0m\u001b[0;34m.\u001b[0m\u001b[0mtrain_function\u001b[0m\u001b[0;34m(\u001b[0m\u001b[0miterator\u001b[0m\u001b[0;34m)\u001b[0m\u001b[0;34m\u001b[0m\u001b[0;34m\u001b[0m\u001b[0m\n\u001b[0m\u001b[1;32m   1101\u001b[0m               \u001b[0;32mif\u001b[0m \u001b[0mdata_handler\u001b[0m\u001b[0;34m.\u001b[0m\u001b[0mshould_sync\u001b[0m\u001b[0;34m:\u001b[0m\u001b[0;34m\u001b[0m\u001b[0;34m\u001b[0m\u001b[0m\n\u001b[1;32m   1102\u001b[0m                 \u001b[0mcontext\u001b[0m\u001b[0;34m.\u001b[0m\u001b[0masync_wait\u001b[0m\u001b[0;34m(\u001b[0m\u001b[0;34m)\u001b[0m\u001b[0;34m\u001b[0m\u001b[0;34m\u001b[0m\u001b[0m\n",
      "\u001b[0;32m~/.local/lib/python3.6/site-packages/tensorflow/python/eager/def_function.py\u001b[0m in \u001b[0;36m__call__\u001b[0;34m(self, *args, **kwds)\u001b[0m\n\u001b[1;32m    826\u001b[0m     \u001b[0mtracing_count\u001b[0m \u001b[0;34m=\u001b[0m \u001b[0mself\u001b[0m\u001b[0;34m.\u001b[0m\u001b[0mexperimental_get_tracing_count\u001b[0m\u001b[0;34m(\u001b[0m\u001b[0;34m)\u001b[0m\u001b[0;34m\u001b[0m\u001b[0;34m\u001b[0m\u001b[0m\n\u001b[1;32m    827\u001b[0m     \u001b[0;32mwith\u001b[0m \u001b[0mtrace\u001b[0m\u001b[0;34m.\u001b[0m\u001b[0mTrace\u001b[0m\u001b[0;34m(\u001b[0m\u001b[0mself\u001b[0m\u001b[0;34m.\u001b[0m\u001b[0m_name\u001b[0m\u001b[0;34m)\u001b[0m \u001b[0;32mas\u001b[0m \u001b[0mtm\u001b[0m\u001b[0;34m:\u001b[0m\u001b[0;34m\u001b[0m\u001b[0;34m\u001b[0m\u001b[0m\n\u001b[0;32m--> 828\u001b[0;31m       \u001b[0mresult\u001b[0m \u001b[0;34m=\u001b[0m \u001b[0mself\u001b[0m\u001b[0;34m.\u001b[0m\u001b[0m_call\u001b[0m\u001b[0;34m(\u001b[0m\u001b[0;34m*\u001b[0m\u001b[0margs\u001b[0m\u001b[0;34m,\u001b[0m \u001b[0;34m**\u001b[0m\u001b[0mkwds\u001b[0m\u001b[0;34m)\u001b[0m\u001b[0;34m\u001b[0m\u001b[0;34m\u001b[0m\u001b[0m\n\u001b[0m\u001b[1;32m    829\u001b[0m       \u001b[0mcompiler\u001b[0m \u001b[0;34m=\u001b[0m \u001b[0;34m\"xla\"\u001b[0m \u001b[0;32mif\u001b[0m \u001b[0mself\u001b[0m\u001b[0;34m.\u001b[0m\u001b[0m_experimental_compile\u001b[0m \u001b[0;32melse\u001b[0m \u001b[0;34m\"nonXla\"\u001b[0m\u001b[0;34m\u001b[0m\u001b[0;34m\u001b[0m\u001b[0m\n\u001b[1;32m    830\u001b[0m       \u001b[0mnew_tracing_count\u001b[0m \u001b[0;34m=\u001b[0m \u001b[0mself\u001b[0m\u001b[0;34m.\u001b[0m\u001b[0mexperimental_get_tracing_count\u001b[0m\u001b[0;34m(\u001b[0m\u001b[0;34m)\u001b[0m\u001b[0;34m\u001b[0m\u001b[0;34m\u001b[0m\u001b[0m\n",
      "\u001b[0;32m~/.local/lib/python3.6/site-packages/tensorflow/python/eager/def_function.py\u001b[0m in \u001b[0;36m_call\u001b[0;34m(self, *args, **kwds)\u001b[0m\n\u001b[1;32m    869\u001b[0m       \u001b[0;31m# This is the first call of __call__, so we have to initialize.\u001b[0m\u001b[0;34m\u001b[0m\u001b[0;34m\u001b[0m\u001b[0;34m\u001b[0m\u001b[0m\n\u001b[1;32m    870\u001b[0m       \u001b[0minitializers\u001b[0m \u001b[0;34m=\u001b[0m \u001b[0;34m[\u001b[0m\u001b[0;34m]\u001b[0m\u001b[0;34m\u001b[0m\u001b[0;34m\u001b[0m\u001b[0m\n\u001b[0;32m--> 871\u001b[0;31m       \u001b[0mself\u001b[0m\u001b[0;34m.\u001b[0m\u001b[0m_initialize\u001b[0m\u001b[0;34m(\u001b[0m\u001b[0margs\u001b[0m\u001b[0;34m,\u001b[0m \u001b[0mkwds\u001b[0m\u001b[0;34m,\u001b[0m \u001b[0madd_initializers_to\u001b[0m\u001b[0;34m=\u001b[0m\u001b[0minitializers\u001b[0m\u001b[0;34m)\u001b[0m\u001b[0;34m\u001b[0m\u001b[0;34m\u001b[0m\u001b[0m\n\u001b[0m\u001b[1;32m    872\u001b[0m     \u001b[0;32mfinally\u001b[0m\u001b[0;34m:\u001b[0m\u001b[0;34m\u001b[0m\u001b[0;34m\u001b[0m\u001b[0m\n\u001b[1;32m    873\u001b[0m       \u001b[0;31m# At this point we know that the initialization is complete (or less\u001b[0m\u001b[0;34m\u001b[0m\u001b[0;34m\u001b[0m\u001b[0;34m\u001b[0m\u001b[0m\n",
      "\u001b[0;32m~/.local/lib/python3.6/site-packages/tensorflow/python/eager/def_function.py\u001b[0m in \u001b[0;36m_initialize\u001b[0;34m(self, args, kwds, add_initializers_to)\u001b[0m\n\u001b[1;32m    724\u001b[0m     self._concrete_stateful_fn = (\n\u001b[1;32m    725\u001b[0m         self._stateful_fn._get_concrete_function_internal_garbage_collected(  # pylint: disable=protected-access\n\u001b[0;32m--> 726\u001b[0;31m             *args, **kwds))\n\u001b[0m\u001b[1;32m    727\u001b[0m \u001b[0;34m\u001b[0m\u001b[0m\n\u001b[1;32m    728\u001b[0m     \u001b[0;32mdef\u001b[0m \u001b[0minvalid_creator_scope\u001b[0m\u001b[0;34m(\u001b[0m\u001b[0;34m*\u001b[0m\u001b[0munused_args\u001b[0m\u001b[0;34m,\u001b[0m \u001b[0;34m**\u001b[0m\u001b[0munused_kwds\u001b[0m\u001b[0;34m)\u001b[0m\u001b[0;34m:\u001b[0m\u001b[0;34m\u001b[0m\u001b[0;34m\u001b[0m\u001b[0m\n",
      "\u001b[0;32m~/.local/lib/python3.6/site-packages/tensorflow/python/eager/function.py\u001b[0m in \u001b[0;36m_get_concrete_function_internal_garbage_collected\u001b[0;34m(self, *args, **kwargs)\u001b[0m\n\u001b[1;32m   2967\u001b[0m       \u001b[0margs\u001b[0m\u001b[0;34m,\u001b[0m \u001b[0mkwargs\u001b[0m \u001b[0;34m=\u001b[0m \u001b[0;32mNone\u001b[0m\u001b[0;34m,\u001b[0m \u001b[0;32mNone\u001b[0m\u001b[0;34m\u001b[0m\u001b[0;34m\u001b[0m\u001b[0m\n\u001b[1;32m   2968\u001b[0m     \u001b[0;32mwith\u001b[0m \u001b[0mself\u001b[0m\u001b[0;34m.\u001b[0m\u001b[0m_lock\u001b[0m\u001b[0;34m:\u001b[0m\u001b[0;34m\u001b[0m\u001b[0;34m\u001b[0m\u001b[0m\n\u001b[0;32m-> 2969\u001b[0;31m       \u001b[0mgraph_function\u001b[0m\u001b[0;34m,\u001b[0m \u001b[0m_\u001b[0m \u001b[0;34m=\u001b[0m \u001b[0mself\u001b[0m\u001b[0;34m.\u001b[0m\u001b[0m_maybe_define_function\u001b[0m\u001b[0;34m(\u001b[0m\u001b[0margs\u001b[0m\u001b[0;34m,\u001b[0m \u001b[0mkwargs\u001b[0m\u001b[0;34m)\u001b[0m\u001b[0;34m\u001b[0m\u001b[0;34m\u001b[0m\u001b[0m\n\u001b[0m\u001b[1;32m   2970\u001b[0m     \u001b[0;32mreturn\u001b[0m \u001b[0mgraph_function\u001b[0m\u001b[0;34m\u001b[0m\u001b[0;34m\u001b[0m\u001b[0m\n\u001b[1;32m   2971\u001b[0m \u001b[0;34m\u001b[0m\u001b[0m\n",
      "\u001b[0;32m~/.local/lib/python3.6/site-packages/tensorflow/python/eager/function.py\u001b[0m in \u001b[0;36m_maybe_define_function\u001b[0;34m(self, args, kwargs)\u001b[0m\n\u001b[1;32m   3359\u001b[0m \u001b[0;34m\u001b[0m\u001b[0m\n\u001b[1;32m   3360\u001b[0m           \u001b[0mself\u001b[0m\u001b[0;34m.\u001b[0m\u001b[0m_function_cache\u001b[0m\u001b[0;34m.\u001b[0m\u001b[0mmissed\u001b[0m\u001b[0;34m.\u001b[0m\u001b[0madd\u001b[0m\u001b[0;34m(\u001b[0m\u001b[0mcall_context_key\u001b[0m\u001b[0;34m)\u001b[0m\u001b[0;34m\u001b[0m\u001b[0;34m\u001b[0m\u001b[0m\n\u001b[0;32m-> 3361\u001b[0;31m           \u001b[0mgraph_function\u001b[0m \u001b[0;34m=\u001b[0m \u001b[0mself\u001b[0m\u001b[0;34m.\u001b[0m\u001b[0m_create_graph_function\u001b[0m\u001b[0;34m(\u001b[0m\u001b[0margs\u001b[0m\u001b[0;34m,\u001b[0m \u001b[0mkwargs\u001b[0m\u001b[0;34m)\u001b[0m\u001b[0;34m\u001b[0m\u001b[0;34m\u001b[0m\u001b[0m\n\u001b[0m\u001b[1;32m   3362\u001b[0m           \u001b[0mself\u001b[0m\u001b[0;34m.\u001b[0m\u001b[0m_function_cache\u001b[0m\u001b[0;34m.\u001b[0m\u001b[0mprimary\u001b[0m\u001b[0;34m[\u001b[0m\u001b[0mcache_key\u001b[0m\u001b[0;34m]\u001b[0m \u001b[0;34m=\u001b[0m \u001b[0mgraph_function\u001b[0m\u001b[0;34m\u001b[0m\u001b[0;34m\u001b[0m\u001b[0m\n\u001b[1;32m   3363\u001b[0m \u001b[0;34m\u001b[0m\u001b[0m\n",
      "\u001b[0;32m~/.local/lib/python3.6/site-packages/tensorflow/python/eager/function.py\u001b[0m in \u001b[0;36m_create_graph_function\u001b[0;34m(self, args, kwargs, override_flat_arg_shapes)\u001b[0m\n\u001b[1;32m   3204\u001b[0m             \u001b[0marg_names\u001b[0m\u001b[0;34m=\u001b[0m\u001b[0marg_names\u001b[0m\u001b[0;34m,\u001b[0m\u001b[0;34m\u001b[0m\u001b[0;34m\u001b[0m\u001b[0m\n\u001b[1;32m   3205\u001b[0m             \u001b[0moverride_flat_arg_shapes\u001b[0m\u001b[0;34m=\u001b[0m\u001b[0moverride_flat_arg_shapes\u001b[0m\u001b[0;34m,\u001b[0m\u001b[0;34m\u001b[0m\u001b[0;34m\u001b[0m\u001b[0m\n\u001b[0;32m-> 3206\u001b[0;31m             capture_by_value=self._capture_by_value),\n\u001b[0m\u001b[1;32m   3207\u001b[0m         \u001b[0mself\u001b[0m\u001b[0;34m.\u001b[0m\u001b[0m_function_attributes\u001b[0m\u001b[0;34m,\u001b[0m\u001b[0;34m\u001b[0m\u001b[0;34m\u001b[0m\u001b[0m\n\u001b[1;32m   3208\u001b[0m         \u001b[0mfunction_spec\u001b[0m\u001b[0;34m=\u001b[0m\u001b[0mself\u001b[0m\u001b[0;34m.\u001b[0m\u001b[0mfunction_spec\u001b[0m\u001b[0;34m,\u001b[0m\u001b[0;34m\u001b[0m\u001b[0;34m\u001b[0m\u001b[0m\n",
      "\u001b[0;32m~/.local/lib/python3.6/site-packages/tensorflow/python/framework/func_graph.py\u001b[0m in \u001b[0;36mfunc_graph_from_py_func\u001b[0;34m(name, python_func, args, kwargs, signature, func_graph, autograph, autograph_options, add_control_dependencies, arg_names, op_return_value, collections, capture_by_value, override_flat_arg_shapes)\u001b[0m\n\u001b[1;32m    988\u001b[0m         \u001b[0m_\u001b[0m\u001b[0;34m,\u001b[0m \u001b[0moriginal_func\u001b[0m \u001b[0;34m=\u001b[0m \u001b[0mtf_decorator\u001b[0m\u001b[0;34m.\u001b[0m\u001b[0munwrap\u001b[0m\u001b[0;34m(\u001b[0m\u001b[0mpython_func\u001b[0m\u001b[0;34m)\u001b[0m\u001b[0;34m\u001b[0m\u001b[0;34m\u001b[0m\u001b[0m\n\u001b[1;32m    989\u001b[0m \u001b[0;34m\u001b[0m\u001b[0m\n\u001b[0;32m--> 990\u001b[0;31m       \u001b[0mfunc_outputs\u001b[0m \u001b[0;34m=\u001b[0m \u001b[0mpython_func\u001b[0m\u001b[0;34m(\u001b[0m\u001b[0;34m*\u001b[0m\u001b[0mfunc_args\u001b[0m\u001b[0;34m,\u001b[0m \u001b[0;34m**\u001b[0m\u001b[0mfunc_kwargs\u001b[0m\u001b[0;34m)\u001b[0m\u001b[0;34m\u001b[0m\u001b[0;34m\u001b[0m\u001b[0m\n\u001b[0m\u001b[1;32m    991\u001b[0m \u001b[0;34m\u001b[0m\u001b[0m\n\u001b[1;32m    992\u001b[0m       \u001b[0;31m# invariant: `func_outputs` contains only Tensors, CompositeTensors,\u001b[0m\u001b[0;34m\u001b[0m\u001b[0;34m\u001b[0m\u001b[0;34m\u001b[0m\u001b[0m\n",
      "\u001b[0;32m~/.local/lib/python3.6/site-packages/tensorflow/python/eager/def_function.py\u001b[0m in \u001b[0;36mwrapped_fn\u001b[0;34m(*args, **kwds)\u001b[0m\n\u001b[1;32m    632\u001b[0m             \u001b[0mxla_context\u001b[0m\u001b[0;34m.\u001b[0m\u001b[0mExit\u001b[0m\u001b[0;34m(\u001b[0m\u001b[0;34m)\u001b[0m\u001b[0;34m\u001b[0m\u001b[0;34m\u001b[0m\u001b[0m\n\u001b[1;32m    633\u001b[0m         \u001b[0;32melse\u001b[0m\u001b[0;34m:\u001b[0m\u001b[0;34m\u001b[0m\u001b[0;34m\u001b[0m\u001b[0m\n\u001b[0;32m--> 634\u001b[0;31m           \u001b[0mout\u001b[0m \u001b[0;34m=\u001b[0m \u001b[0mweak_wrapped_fn\u001b[0m\u001b[0;34m(\u001b[0m\u001b[0;34m)\u001b[0m\u001b[0;34m.\u001b[0m\u001b[0m__wrapped__\u001b[0m\u001b[0;34m(\u001b[0m\u001b[0;34m*\u001b[0m\u001b[0margs\u001b[0m\u001b[0;34m,\u001b[0m \u001b[0;34m**\u001b[0m\u001b[0mkwds\u001b[0m\u001b[0;34m)\u001b[0m\u001b[0;34m\u001b[0m\u001b[0;34m\u001b[0m\u001b[0m\n\u001b[0m\u001b[1;32m    635\u001b[0m         \u001b[0;32mreturn\u001b[0m \u001b[0mout\u001b[0m\u001b[0;34m\u001b[0m\u001b[0;34m\u001b[0m\u001b[0m\n\u001b[1;32m    636\u001b[0m \u001b[0;34m\u001b[0m\u001b[0m\n",
      "\u001b[0;32m~/.local/lib/python3.6/site-packages/tensorflow/python/framework/func_graph.py\u001b[0m in \u001b[0;36mwrapper\u001b[0;34m(*args, **kwargs)\u001b[0m\n\u001b[1;32m    975\u001b[0m           \u001b[0;32mexcept\u001b[0m \u001b[0mException\u001b[0m \u001b[0;32mas\u001b[0m \u001b[0me\u001b[0m\u001b[0;34m:\u001b[0m  \u001b[0;31m# pylint:disable=broad-except\u001b[0m\u001b[0;34m\u001b[0m\u001b[0;34m\u001b[0m\u001b[0m\n\u001b[1;32m    976\u001b[0m             \u001b[0;32mif\u001b[0m \u001b[0mhasattr\u001b[0m\u001b[0;34m(\u001b[0m\u001b[0me\u001b[0m\u001b[0;34m,\u001b[0m \u001b[0;34m\"ag_error_metadata\"\u001b[0m\u001b[0;34m)\u001b[0m\u001b[0;34m:\u001b[0m\u001b[0;34m\u001b[0m\u001b[0;34m\u001b[0m\u001b[0m\n\u001b[0;32m--> 977\u001b[0;31m               \u001b[0;32mraise\u001b[0m \u001b[0me\u001b[0m\u001b[0;34m.\u001b[0m\u001b[0mag_error_metadata\u001b[0m\u001b[0;34m.\u001b[0m\u001b[0mto_exception\u001b[0m\u001b[0;34m(\u001b[0m\u001b[0me\u001b[0m\u001b[0;34m)\u001b[0m\u001b[0;34m\u001b[0m\u001b[0;34m\u001b[0m\u001b[0m\n\u001b[0m\u001b[1;32m    978\u001b[0m             \u001b[0;32melse\u001b[0m\u001b[0;34m:\u001b[0m\u001b[0;34m\u001b[0m\u001b[0;34m\u001b[0m\u001b[0m\n\u001b[1;32m    979\u001b[0m               \u001b[0;32mraise\u001b[0m\u001b[0;34m\u001b[0m\u001b[0;34m\u001b[0m\u001b[0m\n",
      "\u001b[0;31mValueError\u001b[0m: in user code:\n\n    /home/amirhossein/.local/lib/python3.6/site-packages/tensorflow/python/keras/engine/training.py:805 train_function  *\n        return step_function(self, iterator)\n    /home/amirhossein/.local/lib/python3.6/site-packages/tensorflow/python/keras/engine/training.py:795 step_function  **\n        outputs = model.distribute_strategy.run(run_step, args=(data,))\n    /home/amirhossein/.local/lib/python3.6/site-packages/tensorflow/python/distribute/distribute_lib.py:1259 run\n        return self._extended.call_for_each_replica(fn, args=args, kwargs=kwargs)\n    /home/amirhossein/.local/lib/python3.6/site-packages/tensorflow/python/distribute/distribute_lib.py:2730 call_for_each_replica\n        return self._call_for_each_replica(fn, args, kwargs)\n    /home/amirhossein/.local/lib/python3.6/site-packages/tensorflow/python/distribute/distribute_lib.py:3417 _call_for_each_replica\n        return fn(*args, **kwargs)\n    /home/amirhossein/.local/lib/python3.6/site-packages/tensorflow/python/keras/engine/training.py:788 run_step  **\n        outputs = model.train_step(data)\n    /home/amirhossein/.local/lib/python3.6/site-packages/tensorflow/python/keras/engine/training.py:756 train_step\n        y, y_pred, sample_weight, regularization_losses=self.losses)\n    /home/amirhossein/.local/lib/python3.6/site-packages/tensorflow/python/keras/engine/compile_utils.py:182 __call__\n        y_true = self._conform_to_outputs(y_pred, y_true)\n    /home/amirhossein/.local/lib/python3.6/site-packages/tensorflow/python/keras/engine/compile_utils.py:62 _conform_to_outputs\n        struct = map_to_output_names(outputs, self._output_names, struct)\n    /home/amirhossein/.local/lib/python3.6/site-packages/tensorflow/python/keras/engine/compile_utils.py:587 map_to_output_names\n        struct.keys(), output_names))\n\n    ValueError: Found unexpected keys that do not correspond to any Model output: dict_keys(['main_output']). Expected: ['dense_8']\n"
     ]
    }
   ],
   "source": [
    "history_data_x = []\n",
    "history_data_acc = []\n",
    "history_lstm_loss = []\n",
    "history_avg_acc = []\n",
    "history_rewards = []\n",
    "valid_layers = get_dictionary()\n",
    "\n",
    "for nas_epoch in range(no_of_nas_epochs):\n",
    "    sequences = []\n",
    "    data_x = None\n",
    "    accuracies = []\n",
    "    data_acc = None\n",
    "    print(\"NAS epoch\", nas_epoch+1)\n",
    "    sample_seq = 0\n",
    "    while sample_seq < no_of_samples_per_epoch:\n",
    "        sequence = np.zeros((1, no_of_layer_params, max_no_of_layers-1), dtype=\"int32\")\n",
    "        sequence_tokens = []\n",
    "        layer = 0\n",
    "        while layer < max_no_of_layers-1:\n",
    "            distribution = model.predict(sequence)\n",
    "            selected_ = []\n",
    "            for prob in distribution[0]:\n",
    "                selected = np.random.choice(distribution_space, size=1, p=prob)[0]\n",
    "                selected_.append(selected)  \n",
    "            info_0 = map_dist_to_layer_param(distribution_space, \"layers\", int(selected_[0])) \n",
    "            layer_params = [info_0]\n",
    "            if info_0 in [1,2]:\n",
    "                for i, param_name in enumerate([\"filters\", \"kernel_sizes\", \"strides\", \"paddings\", \"activations\"]):\n",
    "                    info_ = map_dist_to_layer_param(distribution_space, param_name, int(selected_[i+1])) \n",
    "                    layer_params.append(info_)\n",
    "            if info_0 == 3:\n",
    "                for i, param_name in enumerate([\"nodes\", None, None, None, \"activations\"]):\n",
    "                    info_ = map_dist_to_layer_param(distribution_space, param_name, int(selected_[i+1])) \n",
    "                    layer_params.append(info_)\n",
    "                    \n",
    "            if tuple(layer_params) in valid_layers:\n",
    "                sequence[0][:,layer] = layer_params\n",
    "                sequence_tokens.append(valid_layers.index(tuple(layer_params))+1)\n",
    "                layer += 1\n",
    "                \n",
    "        if not any(np.array_equal(sequence, x) for x in sequences):\n",
    "            sequences.append(sequence)\n",
    "            sequence_acc = performance_estimate(sequence_tokens + [int(distribution_space[-1])])\n",
    "            accuracies.append(sequence_acc)\n",
    "            sample_seq += 1\n",
    "\n",
    "        data_acc = np.vstack(accuracies)\n",
    "    \n",
    "    avg_acc = round(np.average(accuracies),3)\n",
    "    print(f\"Epoch average accuracy ({no_of_samples_per_epoch} sequences):\", avg_acc)\n",
    "#     baseline = avg_acc + 0.05\n",
    "    plot_distribution(distribution_space, distribution[0], selected_)\n",
    "    print(\"Training lstm ..\")\n",
    "    rewards_ = rew_coef * (data_acc - baseline)\n",
    "    discounted_rewards_ = discount_reward(rewards_)\n",
    "    print(\"Rewards:\", [round(i[0], 4) for i in rewards_])\n",
    "    print(\"Discounted Rewards:\", discounted_rewards_)\n",
    "    data_x = np.array(sequences).reshape(len(sequences), no_of_layer_params, max_no_of_layers-1)\n",
    "    data_y = np.zeros(tuple(list(data_x.shape) + [len(distribution_space)]))\n",
    "    history = model.fit({'main_input': data_x},\n",
    "                        {'main_output': data_y},\n",
    "                        epochs=rnn_train_epochs,\n",
    "                        batch_size=len(data_x),\n",
    "                        verbose=0)\n",
    "    lstm_loss_avg = np.average(list(history.history.values())[0])\n",
    "    print(\"lstm loss (epochs average):\", lstm_loss_avg)\n",
    "    \n",
    "    history_avg_acc.append(avg_acc)\n",
    "    history_lstm_loss.append(lstm_loss_avg)\n",
    "    history_data_x.append(data_x)\n",
    "    history_data_acc.append(data_acc)   \n",
    "    history_rewards.append(rewards_) \n",
    "print(\"Done.\")"
   ]
  },
  {
   "cell_type": "code",
   "execution_count": null,
   "metadata": {
    "scrolled": false
   },
   "outputs": [],
   "source": [
    "fig = plt.figure(figsize=(24, 4))\n",
    "plt.plot(np.arange(0,len(history_avg_acc)), history_avg_acc)\n",
    "plt.title(\"Average epoch accuracy\")\n",
    "plt.grid()\n",
    "plt.show()\n",
    "fig = plt.figure(figsize=(24, 4))\n",
    "plt.plot(np.arange(0,len(history_lstm_loss)), history_lstm_loss)\n",
    "plt.title(\"LSTM loss\")\n",
    "plt.axhline(y=0, c=\"k\")\n",
    "plt.grid()\n",
    "plt.show()\n",
    "\n",
    "fig, ax1 = plt.subplots(figsize=(24, 6))\n",
    "ax2 = ax1.twinx()\n",
    "\n",
    "all_acc_avg = [[np.average(i)] for i in history_data_acc]\n",
    "all_acc_avg = [item for sublist in all_acc_avg for item in sublist]\n",
    "\n",
    "ax1.plot(np.arange(0,len(all_acc_avg)), all_acc_avg, c=\"g\")\n",
    "ax2.plot(np.arange(0,len(history_lstm_loss)), history_lstm_loss, c=\"b\")\n",
    "ax2.axhline(y=0, c=\"gray\")\n",
    "\n",
    "ax1.set_xlabel(\"Epochs\")\n",
    "ax1.set_ylabel(\"Accuracy\", color='g')\n",
    "ax2.set_ylabel(\"Loss\", color='b')\n",
    "plt.grid()\n",
    "plt.show()"
   ]
  },
  {
   "cell_type": "code",
   "execution_count": null,
   "metadata": {},
   "outputs": [],
   "source": [
    "fig = plt.figure(figsize=(24, 4))\n",
    "all_rew = np.array(history_rewards)\n",
    "all_rew = all_rew.reshape(all_rew.shape[0]*all_rew.shape[1],1)\n",
    "\n",
    "rewards_avg = [[np.average(i)]*no_of_samples_per_epoch for i in history_rewards]\n",
    "rewards_avg = [item for sublist in rewards_avg for item in sublist]\n",
    "\n",
    "plt.plot(np.arange(0,len(all_rew)), all_rew, label=\"all\")\n",
    "plt.plot(np.arange(0,len(rewards_avg)), rewards_avg, label=\"epoch_average\")\n",
    "plt.title(\"Rewards\")\n",
    "plt.legend()\n",
    "plt.grid()\n",
    "plt.show()"
   ]
  },
  {
   "cell_type": "code",
   "execution_count": null,
   "metadata": {},
   "outputs": [],
   "source": [
    "fig = plt.figure(figsize=(24, 6))\n",
    "all_acc = np.array(history_data_acc)\n",
    "all_acc = all_acc.reshape(all_acc.shape[0]*all_acc.shape[1],1)\n",
    "plt.plot(np.arange(0,len(all_acc)), all_acc, label=\"all\")\n",
    "\n",
    "all_acc_avg = [[np.average(i)]*no_of_samples_per_epoch for i in history_data_acc]\n",
    "all_acc_avg = [item for sublist in all_acc_avg for item in sublist]\n",
    "plt.plot(np.arange(0,len(all_acc_avg)), all_acc_avg, label=\"epoch_average\")\n",
    "\n",
    "# plt.axhline(y=baseline, c=\"r\", label=\"baseline\")\n",
    "plt.axhline(y=np.average(all_acc), c=\"g\", label=\"average\")\n",
    "plt.title(\"Accuracies\")\n",
    "plt.xticks(range(0,len(all_acc), no_of_samples_per_epoch))\n",
    "plt.ylim([0.4,1])\n",
    "plt.grid()\n",
    "plt.legend()\n",
    "plt.show()\n",
    "print(\"Total accuracy average:\", np.average(all_acc))\n",
    "print(\"Best accuracy:\", np.max(all_acc))"
   ]
  },
  {
   "cell_type": "code",
   "execution_count": null,
   "metadata": {},
   "outputs": [],
   "source": [
    "# random_acc = []\n",
    "# for i in range(len(all_acc)):\n",
    "#     random_acc.append(performance_estimate(np.random.randint(low=1, high=len(distribution_space), size=max_no_of_layers)))\n",
    "\n",
    "# fig = plt.figure(figsize=(24, 6))\n",
    "# plt.plot(np.arange(0,len(random_acc)), random_acc)\n",
    "# plt.ylim([0,1])\n",
    "# plt.grid()\n",
    "# plt.xticks(range(0,len(all_acc), no_of_samples_per_epoch))\n",
    "# plt.axhline(y=baseline, c=\"r\")\n",
    "# plt.axhline(y=np.average(random_acc), c=\"g\")\n",
    "# plt.title(\"Random\")\n",
    "# plt.show()\n",
    "# print(np.average(random_acc))"
   ]
  },
  {
   "cell_type": "code",
   "execution_count": null,
   "metadata": {},
   "outputs": [],
   "source": []
  },
  {
   "cell_type": "code",
   "execution_count": null,
   "metadata": {},
   "outputs": [],
   "source": []
  },
  {
   "cell_type": "code",
   "execution_count": null,
   "metadata": {},
   "outputs": [],
   "source": []
  },
  {
   "cell_type": "code",
   "execution_count": null,
   "metadata": {},
   "outputs": [],
   "source": []
  },
  {
   "cell_type": "code",
   "execution_count": null,
   "metadata": {},
   "outputs": [],
   "source": []
  }
 ],
 "metadata": {
  "kernelspec": {
   "display_name": "Python 3",
   "language": "python",
   "name": "python3"
  },
  "language_info": {
   "codemirror_mode": {
    "name": "ipython",
    "version": 3
   },
   "file_extension": ".py",
   "mimetype": "text/x-python",
   "name": "python",
   "nbconvert_exporter": "python",
   "pygments_lexer": "ipython3",
   "version": "3.6.13"
  }
 },
 "nbformat": 4,
 "nbformat_minor": 4
}
